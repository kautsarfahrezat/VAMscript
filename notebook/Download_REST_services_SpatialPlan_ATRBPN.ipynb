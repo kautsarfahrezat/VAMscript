{
 "cells": [
  {
   "cell_type": "markdown",
   "id": "artificial-situation",
   "metadata": {},
   "source": [
    "## Download Spatial Plan REST Services from ATRBPN GIS services\n",
    "\n",
    "https://gistaru.atrbpn.go.id/arcgis/rest/services/\n",
    " \n",
    "To use below script, you must modified the url. \n",
    "1. To get access, you need to put proxy address infront of the url: https://gistaru.atrbpn.go.id/rtronline/proxy/proxy.ashx?\n",
    "   \n",
    "   * Example for Bali province, the address is: https://gistaru.atrbpn.go.id/arcgis/rest/services/026_RTR_KABUPATEN_KOTA_PROVINSI_BALI/_5100_BALI_PR_PERDA/MapServer/\n",
    "   \n",
    "   * The full url will be: https://gistaru.atrbpn.go.id/rtronline/proxy/proxy.ashx?https://gistaru.atrbpn.go.id/arcgis/rest/services/026_RTR_KABUPATEN_KOTA_PROVINSI_BALI/_5100_BALI_PR_PERDA/MapServer/\n",
    "   \n",
    "   * Don't forget to put \"/\" after MapServer.\n",
    "   \n",
    "   \n",
    "2. In the list of range (line 7), modify the MapServer number.\n",
    "\n",
    "3. Optional: change the filename (line 11)"
   ]
  },
  {
   "cell_type": "code",
   "execution_count": 15,
   "id": "electoral-robinson",
   "metadata": {},
   "outputs": [],
   "source": [
    "import requests\n",
    "import json\n",
    "\n",
    "taru = 'https://gistaru.atrbpn.go.id/rtronline/proxy/proxy.ashx?https://gistaru.atrbpn.go.id/arcgis/rest/services/010_RTR_KABUPATEN_KOTA_PROVINSI_ACEH/_1100_ACEH_PR_PERDA/MapServer/' # Don't forget to put \"/\" after MapServer.\n",
    "query = '/query?where=1%3D1&text=&objectIds=&time=&geometry=&geometryType=esriGeometryEnvelope&inSR=&spatialRel=esriSpatialRelIntersects&distance=&units=esriSRUnit_Foot&relationParam=&outFields=*&returnGeometry=true&returnTrueCurves=false&maxAllowableOffset=&geometryPrecision=&outSR=&havingClause=&returnIdsOnly=false&returnCountOnly=false&orderByFields=&groupByFieldsForStatistics=&outStatistics=&returnZ=false&returnM=false&gdbVersion=&historicMoment=&returnDistinctValues=false&resultOffset=&resultRecordCount=&returnExtentOnly=false&datumTransformation=&parameterValues=&rangeValues=&quantizationParameters=&featureEncoding=esriDefault&f=pjson'\n",
    "\n",
    "for i in list(range(0,23)): # For Bali, 0 is 1st layer and 8 is last layer\n",
    "    url = taru+str(i)+query\n",
    "    data = requests.get(url)\n",
    "    json_data = data.json()\n",
    "    with open('rtrw_11_aceh_kab_'+str(i)+'.json', 'w') as json_file:\n",
    "        json.dump(json_data, json_file)"
   ]
  },
  {
   "cell_type": "code",
   "execution_count": null,
   "id": "anticipated-backup",
   "metadata": {},
   "outputs": [],
   "source": []
  }
 ],
 "metadata": {
  "kernelspec": {
   "display_name": "Python 3",
   "language": "python",
   "name": "python3"
  },
  "language_info": {
   "codemirror_mode": {
    "name": "ipython",
    "version": 3
   },
   "file_extension": ".py",
   "mimetype": "text/x-python",
   "name": "python",
   "nbconvert_exporter": "python",
   "pygments_lexer": "ipython3",
   "version": "3.8.5"
  }
 },
 "nbformat": 4,
 "nbformat_minor": 5
}
